{
 "cells": [
  {
   "cell_type": "code",
   "execution_count": 33,
   "metadata": {},
   "outputs": [],
   "source": [
    "# import the libraries\n",
    "import pandas as pd\n",
    "import numpy as np\n",
    "import matplotlib.pyplot as plt\n",
    "import seaborn as sns\n",
    "from datetime import datetime"
   ]
  },
  {
   "cell_type": "code",
   "execution_count": 34,
   "metadata": {},
   "outputs": [],
   "source": [
    "# read the csv file and store it in a pandas dataframe\n",
    "Q1_file_path = '/Users/nova/Desktop/hackathon csv files/Q_1.csv'\n",
    "df = pd.read_csv(Q1_file_path)"
   ]
  },
  {
   "cell_type": "code",
   "execution_count": 35,
   "metadata": {},
   "outputs": [
    {
     "data": {
      "text/html": [
       "<div>\n",
       "<style scoped>\n",
       "    .dataframe tbody tr th:only-of-type {\n",
       "        vertical-align: middle;\n",
       "    }\n",
       "\n",
       "    .dataframe tbody tr th {\n",
       "        vertical-align: top;\n",
       "    }\n",
       "\n",
       "    .dataframe thead th {\n",
       "        text-align: right;\n",
       "    }\n",
       "</style>\n",
       "<table border=\"1\" class=\"dataframe\">\n",
       "  <thead>\n",
       "    <tr style=\"text-align: right;\">\n",
       "      <th></th>\n",
       "      <th>order_seated_at_local</th>\n",
       "      <th>order_closed_at_local</th>\n",
       "      <th>order_duration_seconds</th>\n",
       "      <th>bill_uuid</th>\n",
       "      <th>venue_xref_id</th>\n",
       "    </tr>\n",
       "  </thead>\n",
       "  <tbody>\n",
       "    <tr>\n",
       "      <th>0</th>\n",
       "      <td>2024-07-01 09:16:15</td>\n",
       "      <td>2024-07-01 09:17:01</td>\n",
       "      <td>46</td>\n",
       "      <td>240701091701~4D63608F-523C-4EFF-9A4F-78D6C44B5159</td>\n",
       "      <td>39e5b4830d4d9c14db7368a95b65d5463ea3d095203737...</td>\n",
       "    </tr>\n",
       "    <tr>\n",
       "      <th>1</th>\n",
       "      <td>2024-07-01 13:32:12</td>\n",
       "      <td>2024-07-01 13:37:00</td>\n",
       "      <td>288</td>\n",
       "      <td>240701133659~3A0BEDE2-E9E5-484D-B909-780E485F0D69</td>\n",
       "      <td>39e5b4830d4d9c14db7368a95b65d5463ea3d095203737...</td>\n",
       "    </tr>\n",
       "    <tr>\n",
       "      <th>2</th>\n",
       "      <td>2024-07-01 11:17:17</td>\n",
       "      <td>2024-07-01 11:19:32</td>\n",
       "      <td>135</td>\n",
       "      <td>240701111931~670EEB85-E939-4924-B92F-C95076B7E930</td>\n",
       "      <td>39e5b4830d4d9c14db7368a95b65d5463ea3d095203737...</td>\n",
       "    </tr>\n",
       "    <tr>\n",
       "      <th>3</th>\n",
       "      <td>2024-07-01 15:05:11</td>\n",
       "      <td>2024-07-01 15:05:59</td>\n",
       "      <td>48</td>\n",
       "      <td>240701150558~3D6F473E-D5EF-4BB8-AFAB-30DB2A0764C0</td>\n",
       "      <td>39e5b4830d4d9c14db7368a95b65d5463ea3d095203737...</td>\n",
       "    </tr>\n",
       "    <tr>\n",
       "      <th>4</th>\n",
       "      <td>2024-07-01 12:39:17</td>\n",
       "      <td>2024-07-01 12:41:00</td>\n",
       "      <td>103</td>\n",
       "      <td>240701124059~0521794C-51FC-4C30-A368-995CE4DE105F</td>\n",
       "      <td>39e5b4830d4d9c14db7368a95b65d5463ea3d095203737...</td>\n",
       "    </tr>\n",
       "  </tbody>\n",
       "</table>\n",
       "</div>"
      ],
      "text/plain": [
       "  order_seated_at_local order_closed_at_local  order_duration_seconds  \\\n",
       "0   2024-07-01 09:16:15   2024-07-01 09:17:01                      46   \n",
       "1   2024-07-01 13:32:12   2024-07-01 13:37:00                     288   \n",
       "2   2024-07-01 11:17:17   2024-07-01 11:19:32                     135   \n",
       "3   2024-07-01 15:05:11   2024-07-01 15:05:59                      48   \n",
       "4   2024-07-01 12:39:17   2024-07-01 12:41:00                     103   \n",
       "\n",
       "                                           bill_uuid  \\\n",
       "0  240701091701~4D63608F-523C-4EFF-9A4F-78D6C44B5159   \n",
       "1  240701133659~3A0BEDE2-E9E5-484D-B909-780E485F0D69   \n",
       "2  240701111931~670EEB85-E939-4924-B92F-C95076B7E930   \n",
       "3  240701150558~3D6F473E-D5EF-4BB8-AFAB-30DB2A0764C0   \n",
       "4  240701124059~0521794C-51FC-4C30-A368-995CE4DE105F   \n",
       "\n",
       "                                       venue_xref_id  \n",
       "0  39e5b4830d4d9c14db7368a95b65d5463ea3d095203737...  \n",
       "1  39e5b4830d4d9c14db7368a95b65d5463ea3d095203737...  \n",
       "2  39e5b4830d4d9c14db7368a95b65d5463ea3d095203737...  \n",
       "3  39e5b4830d4d9c14db7368a95b65d5463ea3d095203737...  \n",
       "4  39e5b4830d4d9c14db7368a95b65d5463ea3d095203737...  "
      ]
     },
     "execution_count": 35,
     "metadata": {},
     "output_type": "execute_result"
    }
   ],
   "source": [
    "# have a brief overview of the csv file\n",
    "df.head()"
   ]
  },
  {
   "cell_type": "code",
   "execution_count": 36,
   "metadata": {},
   "outputs": [
    {
     "name": "stdout",
     "output_type": "stream",
     "text": [
      "<class 'pandas.core.frame.DataFrame'>\n",
      "RangeIndex: 8954786 entries, 0 to 8954785\n",
      "Data columns (total 5 columns):\n",
      " #   Column                  Dtype \n",
      "---  ------                  ----- \n",
      " 0   order_seated_at_local   object\n",
      " 1   order_closed_at_local   object\n",
      " 2   order_duration_seconds  int64 \n",
      " 3   bill_uuid               object\n",
      " 4   venue_xref_id           object\n",
      "dtypes: int64(1), object(4)\n",
      "memory usage: 341.6+ MB\n"
     ]
    }
   ],
   "source": [
    "# Display the data type of the columns\n",
    "df.info()"
   ]
  },
  {
   "cell_type": "code",
   "execution_count": 28,
   "metadata": {},
   "outputs": [
    {
     "data": {
      "text/html": [
       "<div>\n",
       "<style scoped>\n",
       "    .dataframe tbody tr th:only-of-type {\n",
       "        vertical-align: middle;\n",
       "    }\n",
       "\n",
       "    .dataframe tbody tr th {\n",
       "        vertical-align: top;\n",
       "    }\n",
       "\n",
       "    .dataframe thead th {\n",
       "        text-align: right;\n",
       "    }\n",
       "</style>\n",
       "<table border=\"1\" class=\"dataframe\">\n",
       "  <thead>\n",
       "    <tr style=\"text-align: right;\">\n",
       "      <th></th>\n",
       "      <th>order_duration_seconds</th>\n",
       "    </tr>\n",
       "  </thead>\n",
       "  <tbody>\n",
       "    <tr>\n",
       "      <th>count</th>\n",
       "      <td>8.954786e+06</td>\n",
       "    </tr>\n",
       "    <tr>\n",
       "      <th>mean</th>\n",
       "      <td>8.790968e+03</td>\n",
       "    </tr>\n",
       "    <tr>\n",
       "      <th>std</th>\n",
       "      <td>3.984398e+05</td>\n",
       "    </tr>\n",
       "    <tr>\n",
       "      <th>min</th>\n",
       "      <td>-4.400000e+01</td>\n",
       "    </tr>\n",
       "    <tr>\n",
       "      <th>25%</th>\n",
       "      <td>1.100000e+02</td>\n",
       "    </tr>\n",
       "    <tr>\n",
       "      <th>50%</th>\n",
       "      <td>1.159000e+03</td>\n",
       "    </tr>\n",
       "    <tr>\n",
       "      <th>75%</th>\n",
       "      <td>3.377000e+03</td>\n",
       "    </tr>\n",
       "    <tr>\n",
       "      <th>max</th>\n",
       "      <td>2.894124e+08</td>\n",
       "    </tr>\n",
       "  </tbody>\n",
       "</table>\n",
       "</div>"
      ],
      "text/plain": [
       "       order_duration_seconds\n",
       "count            8.954786e+06\n",
       "mean             8.790968e+03\n",
       "std              3.984398e+05\n",
       "min             -4.400000e+01\n",
       "25%              1.100000e+02\n",
       "50%              1.159000e+03\n",
       "75%              3.377000e+03\n",
       "max              2.894124e+08"
      ]
     },
     "execution_count": 28,
     "metadata": {},
     "output_type": "execute_result"
    }
   ],
   "source": [
    "# Display the statistics summary of the dataframe\n",
    "df.describe()"
   ]
  },
  {
   "cell_type": "code",
   "execution_count": 38,
   "metadata": {},
   "outputs": [],
   "source": [
    "# convert order_seated_at_local\tcolumn by the datetime module\n",
    "df['order_seated_at_local'] = pd.to_datetime(df['order_seated_at_local'])\n",
    "\n",
    "df['seated_year'] = df['order_seated_at_local'].dt.year\n",
    "df['seated_month'] = df['order_seated_at_local'].dt.month\n",
    "df['seated_day'] = df['order_seated_at_local'].dt.day\n",
    "df['seated_hour'] = df['order_seated_at_local'].dt.hour\n",
    "df['seated_minute'] = df['order_seated_at_local'].dt.minute\n",
    "df['seated_second'] = df['order_seated_at_local'].dt.second"
   ]
  },
  {
   "cell_type": "code",
   "execution_count": null,
   "metadata": {},
   "outputs": [],
   "source": []
  }
 ],
 "metadata": {
  "kernelspec": {
   "display_name": "Python 3",
   "language": "python",
   "name": "python3"
  },
  "language_info": {
   "codemirror_mode": {
    "name": "ipython",
    "version": 3
   },
   "file_extension": ".py",
   "mimetype": "text/x-python",
   "name": "python",
   "nbconvert_exporter": "python",
   "pygments_lexer": "ipython3",
   "version": "3.9.6"
  }
 },
 "nbformat": 4,
 "nbformat_minor": 2
}
