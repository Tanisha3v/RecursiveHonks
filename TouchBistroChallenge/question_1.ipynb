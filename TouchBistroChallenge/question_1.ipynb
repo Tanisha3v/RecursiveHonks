{
 "cells": [
  {
   "cell_type": "code",
   "execution_count": 1,
   "metadata": {},
   "outputs": [],
   "source": [
    "# import the libraries\n",
    "import pandas as pd\n",
    "import numpy as np\n",
    "import matplotlib.pyplot as plt\n",
    "import seaborn as sns\n",
    "from datetime import datetime"
   ]
  },
  {
   "cell_type": "code",
   "execution_count": 2,
   "metadata": {},
   "outputs": [],
   "source": [
    "# read the csv file and store it in a pandas dataframe\n",
    "Q1_file_path = '/Users/nova/Desktop/hackathon csv files/Q_1.csv'\n",
    "df = pd.read_csv(Q1_file_path)"
   ]
  },
  {
   "cell_type": "code",
   "execution_count": 3,
   "metadata": {},
   "outputs": [
    {
     "data": {
      "text/html": [
       "<div>\n",
       "<style scoped>\n",
       "    .dataframe tbody tr th:only-of-type {\n",
       "        vertical-align: middle;\n",
       "    }\n",
       "\n",
       "    .dataframe tbody tr th {\n",
       "        vertical-align: top;\n",
       "    }\n",
       "\n",
       "    .dataframe thead th {\n",
       "        text-align: right;\n",
       "    }\n",
       "</style>\n",
       "<table border=\"1\" class=\"dataframe\">\n",
       "  <thead>\n",
       "    <tr style=\"text-align: right;\">\n",
       "      <th></th>\n",
       "      <th>order_seated_at_local</th>\n",
       "      <th>order_closed_at_local</th>\n",
       "      <th>order_duration_seconds</th>\n",
       "      <th>bill_uuid</th>\n",
       "      <th>venue_xref_id</th>\n",
       "    </tr>\n",
       "  </thead>\n",
       "  <tbody>\n",
       "    <tr>\n",
       "      <th>0</th>\n",
       "      <td>2024-07-01 09:16:15</td>\n",
       "      <td>2024-07-01 09:17:01</td>\n",
       "      <td>46</td>\n",
       "      <td>240701091701~4D63608F-523C-4EFF-9A4F-78D6C44B5159</td>\n",
       "      <td>39e5b4830d4d9c14db7368a95b65d5463ea3d095203737...</td>\n",
       "    </tr>\n",
       "    <tr>\n",
       "      <th>1</th>\n",
       "      <td>2024-07-01 13:32:12</td>\n",
       "      <td>2024-07-01 13:37:00</td>\n",
       "      <td>288</td>\n",
       "      <td>240701133659~3A0BEDE2-E9E5-484D-B909-780E485F0D69</td>\n",
       "      <td>39e5b4830d4d9c14db7368a95b65d5463ea3d095203737...</td>\n",
       "    </tr>\n",
       "    <tr>\n",
       "      <th>2</th>\n",
       "      <td>2024-07-01 11:17:17</td>\n",
       "      <td>2024-07-01 11:19:32</td>\n",
       "      <td>135</td>\n",
       "      <td>240701111931~670EEB85-E939-4924-B92F-C95076B7E930</td>\n",
       "      <td>39e5b4830d4d9c14db7368a95b65d5463ea3d095203737...</td>\n",
       "    </tr>\n",
       "    <tr>\n",
       "      <th>3</th>\n",
       "      <td>2024-07-01 15:05:11</td>\n",
       "      <td>2024-07-01 15:05:59</td>\n",
       "      <td>48</td>\n",
       "      <td>240701150558~3D6F473E-D5EF-4BB8-AFAB-30DB2A0764C0</td>\n",
       "      <td>39e5b4830d4d9c14db7368a95b65d5463ea3d095203737...</td>\n",
       "    </tr>\n",
       "    <tr>\n",
       "      <th>4</th>\n",
       "      <td>2024-07-01 12:39:17</td>\n",
       "      <td>2024-07-01 12:41:00</td>\n",
       "      <td>103</td>\n",
       "      <td>240701124059~0521794C-51FC-4C30-A368-995CE4DE105F</td>\n",
       "      <td>39e5b4830d4d9c14db7368a95b65d5463ea3d095203737...</td>\n",
       "    </tr>\n",
       "  </tbody>\n",
       "</table>\n",
       "</div>"
      ],
      "text/plain": [
       "  order_seated_at_local order_closed_at_local  order_duration_seconds  \\\n",
       "0   2024-07-01 09:16:15   2024-07-01 09:17:01                      46   \n",
       "1   2024-07-01 13:32:12   2024-07-01 13:37:00                     288   \n",
       "2   2024-07-01 11:17:17   2024-07-01 11:19:32                     135   \n",
       "3   2024-07-01 15:05:11   2024-07-01 15:05:59                      48   \n",
       "4   2024-07-01 12:39:17   2024-07-01 12:41:00                     103   \n",
       "\n",
       "                                           bill_uuid  \\\n",
       "0  240701091701~4D63608F-523C-4EFF-9A4F-78D6C44B5159   \n",
       "1  240701133659~3A0BEDE2-E9E5-484D-B909-780E485F0D69   \n",
       "2  240701111931~670EEB85-E939-4924-B92F-C95076B7E930   \n",
       "3  240701150558~3D6F473E-D5EF-4BB8-AFAB-30DB2A0764C0   \n",
       "4  240701124059~0521794C-51FC-4C30-A368-995CE4DE105F   \n",
       "\n",
       "                                       venue_xref_id  \n",
       "0  39e5b4830d4d9c14db7368a95b65d5463ea3d095203737...  \n",
       "1  39e5b4830d4d9c14db7368a95b65d5463ea3d095203737...  \n",
       "2  39e5b4830d4d9c14db7368a95b65d5463ea3d095203737...  \n",
       "3  39e5b4830d4d9c14db7368a95b65d5463ea3d095203737...  \n",
       "4  39e5b4830d4d9c14db7368a95b65d5463ea3d095203737...  "
      ]
     },
     "execution_count": 3,
     "metadata": {},
     "output_type": "execute_result"
    }
   ],
   "source": [
    "# display the brief overview of the dataset\n",
    "df.head()"
   ]
  },
  {
   "cell_type": "code",
   "execution_count": 4,
   "metadata": {},
   "outputs": [
    {
     "name": "stdout",
     "output_type": "stream",
     "text": [
      "<class 'pandas.core.frame.DataFrame'>\n",
      "RangeIndex: 8954786 entries, 0 to 8954785\n",
      "Data columns (total 5 columns):\n",
      " #   Column                  Dtype \n",
      "---  ------                  ----- \n",
      " 0   order_seated_at_local   object\n",
      " 1   order_closed_at_local   object\n",
      " 2   order_duration_seconds  int64 \n",
      " 3   bill_uuid               object\n",
      " 4   venue_xref_id           object\n",
      "dtypes: int64(1), object(4)\n",
      "memory usage: 341.6+ MB\n"
     ]
    }
   ],
   "source": [
    "# Display the data type of the columns\n",
    "df.info()"
   ]
  },
  {
   "cell_type": "code",
   "execution_count": 5,
   "metadata": {},
   "outputs": [
    {
     "data": {
      "text/html": [
       "<div>\n",
       "<style scoped>\n",
       "    .dataframe tbody tr th:only-of-type {\n",
       "        vertical-align: middle;\n",
       "    }\n",
       "\n",
       "    .dataframe tbody tr th {\n",
       "        vertical-align: top;\n",
       "    }\n",
       "\n",
       "    .dataframe thead th {\n",
       "        text-align: right;\n",
       "    }\n",
       "</style>\n",
       "<table border=\"1\" class=\"dataframe\">\n",
       "  <thead>\n",
       "    <tr style=\"text-align: right;\">\n",
       "      <th></th>\n",
       "      <th>order_duration_seconds</th>\n",
       "    </tr>\n",
       "  </thead>\n",
       "  <tbody>\n",
       "    <tr>\n",
       "      <th>count</th>\n",
       "      <td>8.954786e+06</td>\n",
       "    </tr>\n",
       "    <tr>\n",
       "      <th>mean</th>\n",
       "      <td>8.790968e+03</td>\n",
       "    </tr>\n",
       "    <tr>\n",
       "      <th>std</th>\n",
       "      <td>3.984398e+05</td>\n",
       "    </tr>\n",
       "    <tr>\n",
       "      <th>min</th>\n",
       "      <td>-4.400000e+01</td>\n",
       "    </tr>\n",
       "    <tr>\n",
       "      <th>25%</th>\n",
       "      <td>1.100000e+02</td>\n",
       "    </tr>\n",
       "    <tr>\n",
       "      <th>50%</th>\n",
       "      <td>1.159000e+03</td>\n",
       "    </tr>\n",
       "    <tr>\n",
       "      <th>75%</th>\n",
       "      <td>3.377000e+03</td>\n",
       "    </tr>\n",
       "    <tr>\n",
       "      <th>max</th>\n",
       "      <td>2.894124e+08</td>\n",
       "    </tr>\n",
       "  </tbody>\n",
       "</table>\n",
       "</div>"
      ],
      "text/plain": [
       "       order_duration_seconds\n",
       "count            8.954786e+06\n",
       "mean             8.790968e+03\n",
       "std              3.984398e+05\n",
       "min             -4.400000e+01\n",
       "25%              1.100000e+02\n",
       "50%              1.159000e+03\n",
       "75%              3.377000e+03\n",
       "max              2.894124e+08"
      ]
     },
     "execution_count": 5,
     "metadata": {},
     "output_type": "execute_result"
    }
   ],
   "source": [
    "# Display the statistics summary of the dataframe\n",
    "df.describe()"
   ]
  },
  {
   "cell_type": "code",
   "execution_count": 6,
   "metadata": {},
   "outputs": [],
   "source": [
    "# Convert to datetime format\n",
    "df['order_seated_at_local'] = pd.to_datetime(df['order_seated_at_local'])\n",
    "df['order_closed_at_local'] = pd.to_datetime(df['order_closed_at_local'])"
   ]
  },
  {
   "cell_type": "code",
   "execution_count": 7,
   "metadata": {},
   "outputs": [
    {
     "data": {
      "text/html": [
       "<div>\n",
       "<style scoped>\n",
       "    .dataframe tbody tr th:only-of-type {\n",
       "        vertical-align: middle;\n",
       "    }\n",
       "\n",
       "    .dataframe tbody tr th {\n",
       "        vertical-align: top;\n",
       "    }\n",
       "\n",
       "    .dataframe thead th {\n",
       "        text-align: right;\n",
       "    }\n",
       "</style>\n",
       "<table border=\"1\" class=\"dataframe\">\n",
       "  <thead>\n",
       "    <tr style=\"text-align: right;\">\n",
       "      <th></th>\n",
       "      <th>order_seated_at_local</th>\n",
       "      <th>order_closed_at_local</th>\n",
       "      <th>order_duration_seconds</th>\n",
       "      <th>bill_uuid</th>\n",
       "      <th>venue_xref_id</th>\n",
       "    </tr>\n",
       "  </thead>\n",
       "  <tbody>\n",
       "    <tr>\n",
       "      <th>0</th>\n",
       "      <td>2024-07-01 09:16:15</td>\n",
       "      <td>2024-07-01 09:17:01</td>\n",
       "      <td>46</td>\n",
       "      <td>240701091701~4D63608F-523C-4EFF-9A4F-78D6C44B5159</td>\n",
       "      <td>39e5b4830d4d9c14db7368a95b65d5463ea3d095203737...</td>\n",
       "    </tr>\n",
       "    <tr>\n",
       "      <th>1</th>\n",
       "      <td>2024-07-01 13:32:12</td>\n",
       "      <td>2024-07-01 13:37:00</td>\n",
       "      <td>288</td>\n",
       "      <td>240701133659~3A0BEDE2-E9E5-484D-B909-780E485F0D69</td>\n",
       "      <td>39e5b4830d4d9c14db7368a95b65d5463ea3d095203737...</td>\n",
       "    </tr>\n",
       "    <tr>\n",
       "      <th>2</th>\n",
       "      <td>2024-07-01 11:17:17</td>\n",
       "      <td>2024-07-01 11:19:32</td>\n",
       "      <td>135</td>\n",
       "      <td>240701111931~670EEB85-E939-4924-B92F-C95076B7E930</td>\n",
       "      <td>39e5b4830d4d9c14db7368a95b65d5463ea3d095203737...</td>\n",
       "    </tr>\n",
       "    <tr>\n",
       "      <th>3</th>\n",
       "      <td>2024-07-01 15:05:11</td>\n",
       "      <td>2024-07-01 15:05:59</td>\n",
       "      <td>48</td>\n",
       "      <td>240701150558~3D6F473E-D5EF-4BB8-AFAB-30DB2A0764C0</td>\n",
       "      <td>39e5b4830d4d9c14db7368a95b65d5463ea3d095203737...</td>\n",
       "    </tr>\n",
       "    <tr>\n",
       "      <th>4</th>\n",
       "      <td>2024-07-01 12:39:17</td>\n",
       "      <td>2024-07-01 12:41:00</td>\n",
       "      <td>103</td>\n",
       "      <td>240701124059~0521794C-51FC-4C30-A368-995CE4DE105F</td>\n",
       "      <td>39e5b4830d4d9c14db7368a95b65d5463ea3d095203737...</td>\n",
       "    </tr>\n",
       "  </tbody>\n",
       "</table>\n",
       "</div>"
      ],
      "text/plain": [
       "  order_seated_at_local order_closed_at_local  order_duration_seconds  \\\n",
       "0   2024-07-01 09:16:15   2024-07-01 09:17:01                      46   \n",
       "1   2024-07-01 13:32:12   2024-07-01 13:37:00                     288   \n",
       "2   2024-07-01 11:17:17   2024-07-01 11:19:32                     135   \n",
       "3   2024-07-01 15:05:11   2024-07-01 15:05:59                      48   \n",
       "4   2024-07-01 12:39:17   2024-07-01 12:41:00                     103   \n",
       "\n",
       "                                           bill_uuid  \\\n",
       "0  240701091701~4D63608F-523C-4EFF-9A4F-78D6C44B5159   \n",
       "1  240701133659~3A0BEDE2-E9E5-484D-B909-780E485F0D69   \n",
       "2  240701111931~670EEB85-E939-4924-B92F-C95076B7E930   \n",
       "3  240701150558~3D6F473E-D5EF-4BB8-AFAB-30DB2A0764C0   \n",
       "4  240701124059~0521794C-51FC-4C30-A368-995CE4DE105F   \n",
       "\n",
       "                                       venue_xref_id  \n",
       "0  39e5b4830d4d9c14db7368a95b65d5463ea3d095203737...  \n",
       "1  39e5b4830d4d9c14db7368a95b65d5463ea3d095203737...  \n",
       "2  39e5b4830d4d9c14db7368a95b65d5463ea3d095203737...  \n",
       "3  39e5b4830d4d9c14db7368a95b65d5463ea3d095203737...  \n",
       "4  39e5b4830d4d9c14db7368a95b65d5463ea3d095203737...  "
      ]
     },
     "execution_count": 7,
     "metadata": {},
     "output_type": "execute_result"
    }
   ],
   "source": [
    "df.head()"
   ]
  },
  {
   "cell_type": "code",
   "execution_count": 8,
   "metadata": {},
   "outputs": [],
   "source": [
    "# Check for missing values and duplicates\n",
    "df.dropna(inplace=True)\n",
    "df.drop_duplicates(inplace=True)"
   ]
  },
  {
   "cell_type": "code",
   "execution_count": 9,
   "metadata": {},
   "outputs": [],
   "source": [
    "# Extract hour and day of the week\n",
    "df['hour'] = df['order_seated_at_local'].dt.hour\n",
    "df['day_of_week'] = df['order_seated_at_local'].dt.day_name()\n"
   ]
  },
  {
   "cell_type": "code",
   "execution_count": 10,
   "metadata": {},
   "outputs": [
    {
     "data": {
      "image/png": "[encoded data removed]",
      "text/plain": [
       "<Figure size 1000x600 with 1 Axes>"
      ]
     },
     "metadata": {},
     "output_type": "display_data"
    }
   ],
   "source": [
    "# distribution of hours with frequency of orders \n",
    "plt.figure(figsize=(10, 6))\n",
    "sns.histplot(df['hour'], bins=24, color='lightcoral')\n",
    "\n",
    "plt.title('Distribution of Order Duration')\n",
    "plt.xlabel('hours')\n",
    "plt.xticks(range(0, 24))\n",
    "plt.ylabel('order counts')\n",
    "plt.show()"
   ]
  },
  {
   "cell_type": "code",
   "execution_count": 11,
   "metadata": {},
   "outputs": [
    {
     "data": {
      "text/html": [
       "<div>\n",
       "<style scoped>\n",
       "    .dataframe tbody tr th:only-of-type {\n",
       "        vertical-align: middle;\n",
       "    }\n",
       "\n",
       "    .dataframe tbody tr th {\n",
       "        vertical-align: top;\n",
       "    }\n",
       "\n",
       "    .dataframe thead th {\n",
       "        text-align: right;\n",
       "    }\n",
       "</style>\n",
       "<table border=\"1\" class=\"dataframe\">\n",
       "  <thead>\n",
       "    <tr style=\"text-align: right;\">\n",
       "      <th></th>\n",
       "      <th>order_seated_at_local</th>\n",
       "      <th>order_closed_at_local</th>\n",
       "      <th>order_duration_seconds</th>\n",
       "      <th>bill_uuid</th>\n",
       "      <th>venue_xref_id</th>\n",
       "      <th>hour</th>\n",
       "      <th>day_of_week</th>\n",
       "    </tr>\n",
       "  </thead>\n",
       "  <tbody>\n",
       "    <tr>\n",
       "      <th>0</th>\n",
       "      <td>2024-07-01 09:16:15</td>\n",
       "      <td>2024-07-01 09:17:01</td>\n",
       "      <td>46</td>\n",
       "      <td>240701091701~4D63608F-523C-4EFF-9A4F-78D6C44B5159</td>\n",
       "      <td>39e5b4830d4d9c14db7368a95b65d5463ea3d095203737...</td>\n",
       "      <td>9</td>\n",
       "      <td>Monday</td>\n",
       "    </tr>\n",
       "    <tr>\n",
       "      <th>1</th>\n",
       "      <td>2024-07-01 13:32:12</td>\n",
       "      <td>2024-07-01 13:37:00</td>\n",
       "      <td>288</td>\n",
       "      <td>240701133659~3A0BEDE2-E9E5-484D-B909-780E485F0D69</td>\n",
       "      <td>39e5b4830d4d9c14db7368a95b65d5463ea3d095203737...</td>\n",
       "      <td>13</td>\n",
       "      <td>Monday</td>\n",
       "    </tr>\n",
       "    <tr>\n",
       "      <th>2</th>\n",
       "      <td>2024-07-01 11:17:17</td>\n",
       "      <td>2024-07-01 11:19:32</td>\n",
       "      <td>135</td>\n",
       "      <td>240701111931~670EEB85-E939-4924-B92F-C95076B7E930</td>\n",
       "      <td>39e5b4830d4d9c14db7368a95b65d5463ea3d095203737...</td>\n",
       "      <td>11</td>\n",
       "      <td>Monday</td>\n",
       "    </tr>\n",
       "    <tr>\n",
       "      <th>3</th>\n",
       "      <td>2024-07-01 15:05:11</td>\n",
       "      <td>2024-07-01 15:05:59</td>\n",
       "      <td>48</td>\n",
       "      <td>240701150558~3D6F473E-D5EF-4BB8-AFAB-30DB2A0764C0</td>\n",
       "      <td>39e5b4830d4d9c14db7368a95b65d5463ea3d095203737...</td>\n",
       "      <td>15</td>\n",
       "      <td>Monday</td>\n",
       "    </tr>\n",
       "    <tr>\n",
       "      <th>4</th>\n",
       "      <td>2024-07-01 12:39:17</td>\n",
       "      <td>2024-07-01 12:41:00</td>\n",
       "      <td>103</td>\n",
       "      <td>240701124059~0521794C-51FC-4C30-A368-995CE4DE105F</td>\n",
       "      <td>39e5b4830d4d9c14db7368a95b65d5463ea3d095203737...</td>\n",
       "      <td>12</td>\n",
       "      <td>Monday</td>\n",
       "    </tr>\n",
       "  </tbody>\n",
       "</table>\n",
       "</div>"
      ],
      "text/plain": [
       "  order_seated_at_local order_closed_at_local  order_duration_seconds  \\\n",
       "0   2024-07-01 09:16:15   2024-07-01 09:17:01                      46   \n",
       "1   2024-07-01 13:32:12   2024-07-01 13:37:00                     288   \n",
       "2   2024-07-01 11:17:17   2024-07-01 11:19:32                     135   \n",
       "3   2024-07-01 15:05:11   2024-07-01 15:05:59                      48   \n",
       "4   2024-07-01 12:39:17   2024-07-01 12:41:00                     103   \n",
       "\n",
       "                                           bill_uuid  \\\n",
       "0  240701091701~4D63608F-523C-4EFF-9A4F-78D6C44B5159   \n",
       "1  240701133659~3A0BEDE2-E9E5-484D-B909-780E485F0D69   \n",
       "2  240701111931~670EEB85-E939-4924-B92F-C95076B7E930   \n",
       "3  240701150558~3D6F473E-D5EF-4BB8-AFAB-30DB2A0764C0   \n",
       "4  240701124059~0521794C-51FC-4C30-A368-995CE4DE105F   \n",
       "\n",
       "                                       venue_xref_id  hour day_of_week  \n",
       "0  39e5b4830d4d9c14db7368a95b65d5463ea3d095203737...     9      Monday  \n",
       "1  39e5b4830d4d9c14db7368a95b65d5463ea3d095203737...    13      Monday  \n",
       "2  39e5b4830d4d9c14db7368a95b65d5463ea3d095203737...    11      Monday  \n",
       "3  39e5b4830d4d9c14db7368a95b65d5463ea3d095203737...    15      Monday  \n",
       "4  39e5b4830d4d9c14db7368a95b65d5463ea3d095203737...    12      Monday  "
      ]
     },
     "execution_count": 11,
     "metadata": {},
     "output_type": "execute_result"
    }
   ],
   "source": [
    "# check the first 5 rows of the dataframe\n",
    "df.head()"
   ]
  },
  {
   "cell_type": "code",
   "execution_count": 12,
   "metadata": {},
   "outputs": [
    {
     "data": {
      "image/png": "[encoded data removed]",
      "text/plain": [
       "<Figure size 1000x600 with 1 Axes>"
      ]
     },
     "metadata": {},
     "output_type": "display_data"
    }
   ],
   "source": [
    "# distribution of weekdays with frequency of orders \n",
    "plt.figure(figsize=(10, 6))\n",
    "sns.histplot(df['day_of_week'], bins=7, color='lightcoral')\n",
    "\n",
    "plt.title('Distribution of order counts by day')\n",
    "plt.xlabel('Day')\n",
    "plt.xticks(range(7))\n",
    "plt.ylabel('Order counts')\n",
    "plt.show()"
   ]
  },
  {
   "cell_type": "code",
   "execution_count": 13,
   "metadata": {},
   "outputs": [
    {
     "name": "stdout",
     "output_type": "stream",
     "text": [
      "<class 'pandas.core.frame.DataFrame'>\n",
      "RangeIndex: 8954786 entries, 0 to 8954785\n",
      "Data columns (total 7 columns):\n",
      " #   Column                  Dtype         \n",
      "---  ------                  -----         \n",
      " 0   order_seated_at_local   datetime64[ns]\n",
      " 1   order_closed_at_local   datetime64[ns]\n",
      " 2   order_duration_seconds  int64         \n",
      " 3   bill_uuid               object        \n",
      " 4   venue_xref_id           object        \n",
      " 5   hour                    int32         \n",
      " 6   day_of_week             object        \n",
      "dtypes: datetime64[ns](2), int32(1), int64(1), object(3)\n",
      "memory usage: 444.1+ MB\n"
     ]
    }
   ],
   "source": [
    "df.info()"
   ]
  },
  {
   "cell_type": "code",
   "execution_count": 14,
   "metadata": {},
   "outputs": [],
   "source": [
    "df.to_csv('q1_cleaned.csv', index=False)"
   ]
  }
 ],
 "metadata": {
  "kernelspec": {
   "display_name": "Python 3",
   "language": "python",
   "name": "python3"
  },
  "language_info": {
   "codemirror_mode": {
    "name": "ipython",
    "version": 3
   },
   "file_extension": ".py",
   "mimetype": "text/x-python",
   "name": "python",
   "nbconvert_exporter": "python",
   "pygments_lexer": "ipython3",
   "version": "3.9.6"
  }
 },
 "nbformat": 4,
 "nbformat_minor": 2
}
