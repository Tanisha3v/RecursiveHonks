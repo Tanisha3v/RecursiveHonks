{
 "cells": [
  {
   "cell_type": "code",
   "execution_count": 2,
   "metadata": {},
   "outputs": [],
   "source": [
    "import pandas as pd\n",
    "import numpy as np\n",
    "import matplotlib.pyplot as plt\n",
    "from datetime import datetime"
   ]
  },
  {
   "cell_type": "code",
   "execution_count": 3,
   "metadata": {},
   "outputs": [],
   "source": [
    "file_path = '/Users/nova/Desktop/hackathon csv files/Q7.csv'\n",
    "df = pd.read_csv(file_path)"
   ]
  },
  {
   "cell_type": "code",
   "execution_count": 4,
   "metadata": {},
   "outputs": [
    {
     "data": {
      "text/html": [
       "<div>\n",
       "<style scoped>\n",
       "    .dataframe tbody tr th:only-of-type {\n",
       "        vertical-align: middle;\n",
       "    }\n",
       "\n",
       "    .dataframe tbody tr th {\n",
       "        vertical-align: top;\n",
       "    }\n",
       "\n",
       "    .dataframe thead th {\n",
       "        text-align: right;\n",
       "    }\n",
       "</style>\n",
       "<table border=\"1\" class=\"dataframe\">\n",
       "  <thead>\n",
       "    <tr style=\"text-align: right;\">\n",
       "      <th></th>\n",
       "      <th>business_date</th>\n",
       "      <th>bill_total_billed</th>\n",
       "      <th>bill_total_net</th>\n",
       "      <th>payment_total_tip</th>\n",
       "      <th>order_take_out_type_label</th>\n",
       "      <th>venue_xref_id</th>\n",
       "    </tr>\n",
       "  </thead>\n",
       "  <tbody>\n",
       "    <tr>\n",
       "      <th>0</th>\n",
       "      <td>2024-07-01</td>\n",
       "      <td>21.81</td>\n",
       "      <td>19.30</td>\n",
       "      <td>0.0</td>\n",
       "      <td>dinein</td>\n",
       "      <td>39e5b4830d4d9c14db7368a95b65d5463ea3d095203737...</td>\n",
       "    </tr>\n",
       "    <tr>\n",
       "      <th>1</th>\n",
       "      <td>2024-07-01</td>\n",
       "      <td>48.95</td>\n",
       "      <td>43.32</td>\n",
       "      <td>0.0</td>\n",
       "      <td>dinein</td>\n",
       "      <td>39e5b4830d4d9c14db7368a95b65d5463ea3d095203737...</td>\n",
       "    </tr>\n",
       "    <tr>\n",
       "      <th>2</th>\n",
       "      <td>2024-07-01</td>\n",
       "      <td>26.94</td>\n",
       "      <td>23.84</td>\n",
       "      <td>0.0</td>\n",
       "      <td>dinein</td>\n",
       "      <td>39e5b4830d4d9c14db7368a95b65d5463ea3d095203737...</td>\n",
       "    </tr>\n",
       "    <tr>\n",
       "      <th>3</th>\n",
       "      <td>2024-07-01</td>\n",
       "      <td>3.96</td>\n",
       "      <td>3.77</td>\n",
       "      <td>0.0</td>\n",
       "      <td>dinein</td>\n",
       "      <td>39e5b4830d4d9c14db7368a95b65d5463ea3d095203737...</td>\n",
       "    </tr>\n",
       "    <tr>\n",
       "      <th>4</th>\n",
       "      <td>2024-07-01</td>\n",
       "      <td>3.36</td>\n",
       "      <td>3.20</td>\n",
       "      <td>0.0</td>\n",
       "      <td>dinein</td>\n",
       "      <td>39e5b4830d4d9c14db7368a95b65d5463ea3d095203737...</td>\n",
       "    </tr>\n",
       "  </tbody>\n",
       "</table>\n",
       "</div>"
      ],
      "text/plain": [
       "  business_date  bill_total_billed  bill_total_net  payment_total_tip  \\\n",
       "0    2024-07-01              21.81           19.30                0.0   \n",
       "1    2024-07-01              48.95           43.32                0.0   \n",
       "2    2024-07-01              26.94           23.84                0.0   \n",
       "3    2024-07-01               3.96            3.77                0.0   \n",
       "4    2024-07-01               3.36            3.20                0.0   \n",
       "\n",
       "  order_take_out_type_label                                      venue_xref_id  \n",
       "0                    dinein  39e5b4830d4d9c14db7368a95b65d5463ea3d095203737...  \n",
       "1                    dinein  39e5b4830d4d9c14db7368a95b65d5463ea3d095203737...  \n",
       "2                    dinein  39e5b4830d4d9c14db7368a95b65d5463ea3d095203737...  \n",
       "3                    dinein  39e5b4830d4d9c14db7368a95b65d5463ea3d095203737...  \n",
       "4                    dinein  39e5b4830d4d9c14db7368a95b65d5463ea3d095203737...  "
      ]
     },
     "execution_count": 4,
     "metadata": {},
     "output_type": "execute_result"
    }
   ],
   "source": [
    "df.head()"
   ]
  },
  {
   "cell_type": "code",
   "execution_count": 5,
   "metadata": {},
   "outputs": [
    {
     "data": {
      "text/html": [
       "<div>\n",
       "<style scoped>\n",
       "    .dataframe tbody tr th:only-of-type {\n",
       "        vertical-align: middle;\n",
       "    }\n",
       "\n",
       "    .dataframe tbody tr th {\n",
       "        vertical-align: top;\n",
       "    }\n",
       "\n",
       "    .dataframe thead th {\n",
       "        text-align: right;\n",
       "    }\n",
       "</style>\n",
       "<table border=\"1\" class=\"dataframe\">\n",
       "  <thead>\n",
       "    <tr style=\"text-align: right;\">\n",
       "      <th></th>\n",
       "      <th>bill_total_billed</th>\n",
       "      <th>bill_total_net</th>\n",
       "      <th>payment_total_tip</th>\n",
       "    </tr>\n",
       "  </thead>\n",
       "  <tbody>\n",
       "    <tr>\n",
       "      <th>count</th>\n",
       "      <td>8.954786e+06</td>\n",
       "      <td>8.954786e+06</td>\n",
       "      <td>8.954786e+06</td>\n",
       "    </tr>\n",
       "    <tr>\n",
       "      <th>mean</th>\n",
       "      <td>3.674831e+01</td>\n",
       "      <td>3.389894e+01</td>\n",
       "      <td>3.654212e+00</td>\n",
       "    </tr>\n",
       "    <tr>\n",
       "      <th>std</th>\n",
       "      <td>8.337650e+01</td>\n",
       "      <td>7.754356e+01</td>\n",
       "      <td>1.753186e+02</td>\n",
       "    </tr>\n",
       "    <tr>\n",
       "      <th>min</th>\n",
       "      <td>-5.731500e+03</td>\n",
       "      <td>-5.072120e+03</td>\n",
       "      <td>-2.531400e+02</td>\n",
       "    </tr>\n",
       "    <tr>\n",
       "      <th>25%</th>\n",
       "      <td>1.044000e+01</td>\n",
       "      <td>9.630000e+00</td>\n",
       "      <td>0.000000e+00</td>\n",
       "    </tr>\n",
       "    <tr>\n",
       "      <th>50%</th>\n",
       "      <td>2.189000e+01</td>\n",
       "      <td>2.000000e+01</td>\n",
       "      <td>0.000000e+00</td>\n",
       "    </tr>\n",
       "    <tr>\n",
       "      <th>75%</th>\n",
       "      <td>4.465000e+01</td>\n",
       "      <td>4.100000e+01</td>\n",
       "      <td>4.070000e+00</td>\n",
       "    </tr>\n",
       "    <tr>\n",
       "      <th>max</th>\n",
       "      <td>7.492861e+04</td>\n",
       "      <td>6.630850e+04</td>\n",
       "      <td>5.227156e+05</td>\n",
       "    </tr>\n",
       "  </tbody>\n",
       "</table>\n",
       "</div>"
      ],
      "text/plain": [
       "       bill_total_billed  bill_total_net  payment_total_tip\n",
       "count       8.954786e+06    8.954786e+06       8.954786e+06\n",
       "mean        3.674831e+01    3.389894e+01       3.654212e+00\n",
       "std         8.337650e+01    7.754356e+01       1.753186e+02\n",
       "min        -5.731500e+03   -5.072120e+03      -2.531400e+02\n",
       "25%         1.044000e+01    9.630000e+00       0.000000e+00\n",
       "50%         2.189000e+01    2.000000e+01       0.000000e+00\n",
       "75%         4.465000e+01    4.100000e+01       4.070000e+00\n",
       "max         7.492861e+04    6.630850e+04       5.227156e+05"
      ]
     },
     "execution_count": 5,
     "metadata": {},
     "output_type": "execute_result"
    }
   ],
   "source": [
    "df.describe()"
   ]
  },
  {
   "cell_type": "code",
   "execution_count": 6,
   "metadata": {},
   "outputs": [
    {
     "name": "stdout",
     "output_type": "stream",
     "text": [
      "<class 'pandas.core.frame.DataFrame'>\n",
      "RangeIndex: 8954786 entries, 0 to 8954785\n",
      "Data columns (total 6 columns):\n",
      " #   Column                     Dtype  \n",
      "---  ------                     -----  \n",
      " 0   business_date              object \n",
      " 1   bill_total_billed          float64\n",
      " 2   bill_total_net             float64\n",
      " 3   payment_total_tip          float64\n",
      " 4   order_take_out_type_label  object \n",
      " 5   venue_xref_id              object \n",
      "dtypes: float64(3), object(3)\n",
      "memory usage: 409.9+ MB\n"
     ]
    }
   ],
   "source": [
    "df.info()"
   ]
  },
  {
   "cell_type": "code",
   "execution_count": 7,
   "metadata": {},
   "outputs": [],
   "source": [
    "# Convert to datetime format\n",
    "df['business_date'] = pd.to_datetime(df['business_date'])"
   ]
  },
  {
   "cell_type": "code",
   "execution_count": 8,
   "metadata": {},
   "outputs": [],
   "source": [
    "# Extract day and weekend info of the week\n",
    "df['day_of_week'] = df['business_date'].dt.day_name()\n",
    "df['is_weekend'] = df['day_of_week'].isin(['Saturday', 'Sunday'])"
   ]
  },
  {
   "cell_type": "code",
   "execution_count": 9,
   "metadata": {},
   "outputs": [],
   "source": [
    "# group by \n",
    "sales_by_day = df.groupby('day_of_week').agg({\n",
    "    'bill_total_billed': 'sum',\n",
    "    'bill_total_net': 'sum',\n",
    "    'payment_total_tip': 'sum'\n",
    "}).reindex(['Monday', 'Tuesday', 'Wednesday', 'Thursday', 'Friday', 'Saturday', 'Sunday'])"
   ]
  },
  {
   "cell_type": "code",
   "execution_count": 12,
   "metadata": {},
   "outputs": [
    {
     "data": {
      "image/png": "[encoded data removed]",
      "text/plain": [
       "<Figure size 1400x800 with 1 Axes>"
      ]
     },
     "metadata": {},
     "output_type": "display_data"
    }
   ],
   "source": [
    "# plot Total Billed by Day of the Week\n",
    "plt.figure(figsize=(14, 8))\n",
    "plt.bar(sales_by_day.index, sales_by_day['bill_total_billed'], color='brown')\n",
    "\n",
    "plt.xlabel('Day of the Week')\n",
    "plt.ylabel('Total Billed ($)')\n",
    "plt.title('Total Sales by Day of the Week')\n",
    "plt.grid(axis='y', linestyle='--', alpha=0.7)\n",
    "plt.show()"
   ]
  },
  {
   "cell_type": "code",
   "execution_count": 13,
   "metadata": {},
   "outputs": [],
   "source": [
    "# group by\n",
    "sales_by_weekend = df.groupby('is_weekend').agg({\n",
    "    'bill_total_billed': 'sum',\n",
    "    'bill_total_net': 'sum',\n",
    "    'payment_total_tip': 'sum'\n",
    "})"
   ]
  },
  {
   "cell_type": "code",
   "execution_count": 15,
   "metadata": {},
   "outputs": [
    {
     "data": {
      "image/png": "[encoded data removed]",
      "text/plain": [
       "<Figure size 1000x600 with 1 Axes>"
      ]
     },
     "metadata": {},
     "output_type": "display_data"
    }
   ],
   "source": [
    "# plot Weekend vs. Weekday Sales\n",
    "plt.figure(figsize=(10, 6))\n",
    "plt.bar(['Weekday', 'Weekend'], sales_by_weekend['bill_total_billed'], color=['red', 'green'])\n",
    "\n",
    "plt.xlabel('Day Type')\n",
    "plt.ylabel('Total Billed ($)')\n",
    "plt.title('Sales: Weekday vs. Weekend')\n",
    "plt.grid(axis='y', linestyle='--', alpha=0.7)\n",
    "plt.show()"
   ]
  },
  {
   "cell_type": "code",
   "execution_count": null,
   "metadata": {},
   "outputs": [],
   "source": []
  }
 ],
 "metadata": {
  "kernelspec": {
   "display_name": "Python 3",
   "language": "python",
   "name": "python3"
  },
  "language_info": {
   "codemirror_mode": {
    "name": "ipython",
    "version": 3
   },
   "file_extension": ".py",
   "mimetype": "text/x-python",
   "name": "python",
   "nbconvert_exporter": "python",
   "pygments_lexer": "ipython3",
   "version": "3.9.6"
  }
 },
 "nbformat": 4,
 "nbformat_minor": 2
}
